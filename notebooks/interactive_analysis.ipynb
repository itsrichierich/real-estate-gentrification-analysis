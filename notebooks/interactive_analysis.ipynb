{
  "cells": [
    {
      "cell_type": "markdown",
      "metadata": {
        "id": "MMt0FOifWIlb"
      },
      "source": [
        "# Cleaning Redfin Data for Investigative Journalists\n",
        "\n",
        "This notebook walks you through cleaning a Redfin 'Sold Homes' dataset using Python and pandas. The goal is to prepare the data for analysis related to housing trends and potential gentrification patterns."
      ]
    },
    {
      "cell_type": "markdown",
      "source": [],
      "metadata": {
        "id": "PNkZeAAqmUU7"
      }
    },
    {
      "cell_type": "markdown",
      "source": [
        "## Step 1: Import libraries"
      ],
      "metadata": {
        "id": "bv7Z5fi_HjCy"
      }
    },
    {
      "cell_type": "code",
      "execution_count": null,
      "metadata": {
        "id": "dZTCKbniWIld"
      },
      "outputs": [],
      "source": [
        "\n",
        "import pandas as pd\n",
        "import matplotlib.pyplot as plt\n",
        "import seaborn as sns\n"
      ]
    },
    {
      "cell_type": "markdown",
      "source": [
        "## Step 2: Import csv file"
      ],
      "metadata": {
        "id": "JpXglr0yHotE"
      }
    },
    {
      "cell_type": "code",
      "execution_count": null,
      "metadata": {
        "id": "_Z1f43NgWIle",
        "collapsed": true
      },
      "outputs": [],
      "source": [
        "from google.colab import files\n",
        "uploaded = files.upload()"
      ]
    },
    {
      "cell_type": "markdown",
      "metadata": {
        "id": "s8JQkPA9WIle"
      },
      "source": [
        "### Step 3: Check the structure of the data\n",
        "Let's explore the columns and data types to understand what we have."
      ]
    },
    {
      "cell_type": "code",
      "execution_count": null,
      "metadata": {
        "id": "Rmv4VvpSWIle"
      },
      "outputs": [],
      "source": [
        "\n",
        "# Automatically read the uploaded CSV\n",
        "filename = list(uploaded.keys())[0]  # Get the first uploaded filename\n",
        "df = pd.read_csv(filename)\n",
        "\n",
        "# Show structure\n",
        "print(\"Shape:\", df.shape)\n",
        "print(\"\\nColumns:\\n\", df.columns.tolist())\n",
        "print(\"\\nData Preview:\")\n",
        "df.head()\n"
      ]
    },
    {
      "cell_type": "markdown",
      "metadata": {
        "id": "qlANU6iZWIle"
      },
      "source": [
        "### Step 4: Rename columns for readability\n",
        "We'll simplify long, tool-generated column names to more journalist-friendly ones."
      ]
    },
    {
      "cell_type": "code",
      "execution_count": null,
      "metadata": {
        "id": "tDDVnQSeWIlf"
      },
      "outputs": [],
      "source": [
        "df.columns = [\n",
        "    \"URL\", \"Sold_Label\", \"Address\", \"Listing_Details\", \"Price\",\n",
        "    \"Beds\", \"Baths\", \"SqFt\"\n",
        "]\n",
        "df = df[[\n",
        "    \"URL\", \"Sold_Label\", \"Address\", \"Listing_Details\", \"Price\",\n",
        "    \"Beds\", \"Baths\", \"SqFt\"\n",
        "]]\n",
        "df.head()"
      ]
    },
    {
      "cell_type": "code",
      "source": [],
      "metadata": {
        "id": "fUoQiIvgN7FN"
      },
      "execution_count": null,
      "outputs": []
    },
    {
      "cell_type": "markdown",
      "metadata": {
        "id": "mc6IV-z5WIlf"
      },
      "source": [
        "### Step 5: Clean numeric fields (price, beds, baths, sqft)\n",
        "We'll remove any symbols like `$` or `,` and convert to numeric values for analysis."
      ]
    },
    {
      "cell_type": "code",
      "execution_count": null,
      "metadata": {
        "id": "dDnN4i-HWIlf"
      },
      "outputs": [],
      "source": [
        "df['Beds'] = df['Beds'].astype(str)\n",
        "df['Baths'] = df['Baths'].astype(str)\n",
        "df['Price'] = df['Price'].replace('[\\$,]', '', regex=True).astype(float)\n",
        "df['Beds'] =  df['Beds'].str.extract(r'(\\d+\\.?\\d*)').astype(float)\n",
        "df['Baths'] = df['Baths'].str.extract(r'(\\d+\\.?\\d*)').astype(float)\n",
        "df['SqFt'] = df['SqFt'].replace({',': '', '‚Äî': None}, regex=True)\n",
        "df['SqFt'] = pd.to_numeric(df['SqFt'], errors='coerce')"
      ]
    },
    {
      "cell_type": "markdown",
      "metadata": {
        "id": "acVJPLHrWIlf"
      },
      "source": [
        "### Step 6: Extract sold date from the label\n",
        "This gives us a usable `datetime` column for filtering or time-based analysis."
      ]
    },
    {
      "cell_type": "code",
      "execution_count": null,
      "metadata": {
        "id": "04i2ImttWIlg"
      },
      "outputs": [],
      "source": [
        "df['Sold_Date'] = df['Sold_Label'].str.extract(r'SOLD(?: BY REDFIN)? ([A-Z]{3} \\d{1,2}, \\d{4})')\n",
        "df['Sold_Date'] = pd.to_datetime(df['Sold_Date'], format='%b %d, %Y', errors='coerce')\n",
        "df = df.drop_duplicates()\n",
        "\n",
        "df.head()"
      ]
    },
    {
      "cell_type": "markdown",
      "metadata": {
        "id": "eAlP4pM8WIlg"
      },
      "source": [
        "### Step 7: Calculate price per square foot\n",
        "This helps spot overvalued flips or gentrification signals."
      ]
    },
    {
      "cell_type": "code",
      "execution_count": null,
      "metadata": {
        "id": "SLkO-F-wWIlg"
      },
      "outputs": [],
      "source": [
        "df['Price_per_SqFt'] = df['Price'] / df['SqFt']"
      ]
    },
    {
      "cell_type": "markdown",
      "metadata": {
        "id": "M8FIdLFiWIlg"
      },
      "source": [
        "### Step 8: Extract ZIP code from the address\n",
        "This enables location-based filtering and grouping."
      ]
    },
    {
      "cell_type": "code",
      "execution_count": null,
      "metadata": {
        "id": "-2O1gmajWIlg"
      },
      "outputs": [],
      "source": [
        "df['ZIP'] = df['Address'].str.extract(r'(\\d{5})')"
      ]
    },
    {
      "cell_type": "markdown",
      "metadata": {
        "id": "NeX6oCQMWIlg"
      },
      "source": [
        "### Final Cleaned Dataset Preview\n",
        "You're now ready to begin your analysis."
      ]
    },
    {
      "cell_type": "code",
      "source": [
        "# Convert Price column to numeric\n",
        "df['Price'] = pd.to_numeric(df['Price'].replace('[\\$,]', '', regex=True), errors='coerce')\n",
        "\n",
        "# Remove sold_label column\n",
        "df = df.drop('Sold_Label', axis=1)"
      ],
      "metadata": {
        "collapsed": true,
        "id": "VNJG7h03BGEB"
      },
      "execution_count": null,
      "outputs": []
    },
    {
      "cell_type": "code",
      "execution_count": null,
      "metadata": {
        "id": "1Gdx7AjbWIlg"
      },
      "outputs": [],
      "source": [
        "df.head()"
      ]
    },
    {
      "cell_type": "markdown",
      "metadata": {
        "id": "Sm9bDeblWIlh"
      },
      "source": [
        "# Additional Analysis: Trends and Potential Flips"
      ]
    },
    {
      "cell_type": "markdown",
      "metadata": {
        "id": "9_AO7FGEWIlh"
      },
      "source": [
        "### Step 1: Choose a ZIP code to explore"
      ]
    },
    {
      "cell_type": "code",
      "execution_count": null,
      "metadata": {
        "id": "lvtVdTD_WIlh"
      },
      "outputs": [],
      "source": [
        "# Show ZIP codes available\n",
        "df['ZIP'].value_counts().head(10)"
      ]
    },
    {
      "cell_type": "code",
      "execution_count": null,
      "metadata": {
        "id": "R_qjBtplWIlh"
      },
      "outputs": [],
      "source": [
        "# Set your focus ZIP code\n",
        "target_zip = '30349'  # Change this to any ZIP code in your dataset\n",
        "focus_df = df[df['ZIP'] == target_zip]"
      ]
    },
    {
      "cell_type": "markdown",
      "metadata": {
        "id": "Nk2S3oLjWIli"
      },
      "source": [
        "### Step 2: Price Trends Over Time"
      ]
    },
    {
      "cell_type": "code",
      "execution_count": null,
      "metadata": {
        "id": "R5IUbMIGWIli"
      },
      "outputs": [],
      "source": [
        "# Group by month to see trend\n",
        "focus_df['Month'] = focus_df['Sold_Date'].dt.to_period('M')\n",
        "monthly_prices = focus_df.groupby('Month')['Price'].mean()\n",
        "monthly_prices.plot(title=f'Average Sale Price in {target_zip}', marker='o')\n",
        "plt.ylabel('Price')\n",
        "plt.grid(True)\n",
        "plt.xticks(rotation=45)\n",
        "plt.show()"
      ]
    },
    {
      "cell_type": "markdown",
      "metadata": {
        "id": "YqlCbaj1WIli"
      },
      "source": [
        "### Step 3: Price Per Square Foot Distribution"
      ]
    },
    {
      "cell_type": "code",
      "execution_count": null,
      "metadata": {
        "id": "CyEPA3gjWIli"
      },
      "outputs": [],
      "source": [
        "sns.histplot(focus_df['Price_per_SqFt'].dropna(), bins=20, kde=True)\n",
        "plt.title(f'Price per Sq Ft in ZIP {target_zip}')\n",
        "plt.xlabel('Price/SqFt')\n",
        "plt.grid(True)\n",
        "plt.show()"
      ]
    },
    {
      "cell_type": "markdown",
      "metadata": {
        "id": "Lx6vV3c2WIli"
      },
      "source": [
        "### Step 4: Identify Possible Flips\n",
        "A flip might be a small house (under 1500 sqft) sold for a very high price per sqft.\n"
      ]
    },
    {
      "cell_type": "code",
      "execution_count": null,
      "metadata": {
        "id": "kQJcbw8RWIli"
      },
      "outputs": [],
      "source": [
        "flips = focus_df[(focus_df['SqFt'] < 1500) & (focus_df['Price_per_SqFt'] > 175)]\n",
        "flips[['Address', 'Price', 'SqFt', 'Price_per_SqFt', 'Sold_Date']]"
      ]
    },
    {
      "cell_type": "markdown",
      "source": [
        "## Step 5: Analyze trens by zipcode"
      ],
      "metadata": {
        "id": "aMTZECugVD7R"
      }
    },
    {
      "cell_type": "code",
      "source": [
        "# Create a 'Year' column\n",
        "df['Year'] = df['Sold_Date'].dt.year\n",
        "\n",
        "# Group and calculate average price per year per ZIP\n",
        "yearly_prices = df.groupby(['ZIP', 'Year'])['Price'].mean().reset_index()\n"
      ],
      "metadata": {
        "id": "GRe6sSl8VLqf"
      },
      "execution_count": null,
      "outputs": []
    },
    {
      "cell_type": "code",
      "source": [
        "plt.figure(figsize=(12, 6))\n",
        "\n",
        "\n",
        "for zip_code in yearly_prices['ZIP'].unique():\n",
        "    zip_data = yearly_prices[yearly_prices['ZIP'] == zip_code]\n",
        "    plt.plot(zip_data['Year'], zip_data['Price'], label=f'ZIP {zip_code}')\n",
        "\n",
        "plt.title('Yearly Average Home Prices by ZIP Code')\n",
        "plt.xlabel('Year')\n",
        "plt.ylabel('Avg Price ($)')\n",
        "plt.xticks(sorted(yearly_prices['Year'].unique()))  # Use clean integer years\n",
        "plt.grid(True)\n",
        "plt.tight_layout()\n",
        "plt.legend(loc='upper left', bbox_to_anchor=(1.01, 1), ncol=1)\n",
        "plt.show()"
      ],
      "metadata": {
        "id": "JYHNI3oGVY9f"
      },
      "execution_count": null,
      "outputs": []
    }
  ],
  "metadata": {
    "kernelspec": {
      "display_name": "Python 3",
      "language": "python",
      "name": "python3"
    },
    "language_info": {
      "name": "python",
      "version": "3.x"
    },
    "colab": {
      "provenance": []
    }
  },
  "nbformat": 4,
  "nbformat_minor": 0
}
